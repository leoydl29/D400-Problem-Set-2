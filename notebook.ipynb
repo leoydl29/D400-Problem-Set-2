{
 "cells": [
  {
   "cell_type": "markdown",
   "id": "249c4cd9",
   "metadata": {},
   "source": [
    "# PS2 Notebook\n",
    "\n",
    "**Description:** This is the notebook to run the functions for this problem set."
   ]
  },
  {
   "cell_type": "markdown",
   "id": "7b3c6226",
   "metadata": {},
   "source": [
    "### Load Packages "
   ]
  },
  {
   "cell_type": "code",
   "execution_count": 1,
   "id": "2b882b37",
   "metadata": {},
   "outputs": [],
   "source": [
    "import math\n",
    "from Functions.sine_taylor import taylor_sine\n",
    "from Functions.prime_less_N import prime_less_than_N"
   ]
  },
  {
   "cell_type": "markdown",
   "id": "75eb6c9e",
   "metadata": {},
   "source": [
    "### 1.1"
   ]
  },
  {
   "cell_type": "code",
   "execution_count": 2,
   "id": "eab913d6",
   "metadata": {},
   "outputs": [],
   "source": [
    "order = 5 \n",
    "radians = 0.1\n",
    "value = taylor_sine(order,radians)"
   ]
  },
  {
   "cell_type": "markdown",
   "id": "0854ebd1",
   "metadata": {},
   "source": [
    "### 1.2"
   ]
  },
  {
   "cell_type": "code",
   "execution_count": 3,
   "id": "f4caccd1",
   "metadata": {},
   "outputs": [
    {
     "name": "stdout",
     "output_type": "stream",
     "text": [
      "The Taylor expansion of sin(0.1) was calculated to the 5th order and has a value of 0.09983 when rounded to 5 decimal places.\n"
     ]
    }
   ],
   "source": [
    "print(f\"The Taylor expansion of sin({radians}) was calculated to the {order}th order and has a value of {round(value,5)} when rounded to 5 decimal places.\")\n"
   ]
  },
  {
   "cell_type": "markdown",
   "id": "5099115c",
   "metadata": {},
   "source": [
    "### 1.3"
   ]
  },
  {
   "cell_type": "code",
   "execution_count": 6,
   "id": "7d74d171",
   "metadata": {},
   "outputs": [
    {
     "name": "stdout",
     "output_type": "stream",
     "text": [
      "The list of prime numbers smaller than 26 is [2, 3, 5, 7, 11, 13, 17, 19, 23].\n"
     ]
    }
   ],
   "source": [
    "N = 26\n",
    "prime_list = prime_less_than_N(N)\n",
    "print(f\"The list of prime numbers smaller than {N} is {prime_list}.\")"
   ]
  },
  {
   "cell_type": "markdown",
   "id": "2ea05bce",
   "metadata": {},
   "source": [
    "### 1.4"
   ]
  },
  {
   "cell_type": "code",
   "execution_count": null,
   "id": "88665812",
   "metadata": {},
   "outputs": [],
   "source": []
  },
  {
   "cell_type": "markdown",
   "id": "7b578cce",
   "metadata": {},
   "source": [
    "### 1.5"
   ]
  },
  {
   "cell_type": "code",
   "execution_count": null,
   "id": "76878ba1",
   "metadata": {},
   "outputs": [],
   "source": []
  },
  {
   "cell_type": "markdown",
   "id": "2e85d567",
   "metadata": {},
   "source": [
    "### 1.6"
   ]
  },
  {
   "cell_type": "code",
   "execution_count": null,
   "id": "d47cfaa2",
   "metadata": {},
   "outputs": [],
   "source": []
  },
  {
   "cell_type": "markdown",
   "id": "b0f345f5",
   "metadata": {},
   "source": [
    "### 1.7"
   ]
  },
  {
   "cell_type": "code",
   "execution_count": null,
   "id": "e545d315",
   "metadata": {},
   "outputs": [],
   "source": []
  }
 ],
 "metadata": {
  "kernelspec": {
   "display_name": "ps2_env",
   "language": "python",
   "name": "python3"
  },
  "language_info": {
   "codemirror_mode": {
    "name": "ipython",
    "version": 3
   },
   "file_extension": ".py",
   "mimetype": "text/x-python",
   "name": "python",
   "nbconvert_exporter": "python",
   "pygments_lexer": "ipython3",
   "version": "3.12.12"
  }
 },
 "nbformat": 4,
 "nbformat_minor": 5
}
